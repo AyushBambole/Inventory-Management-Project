{
  "nbformat": 4,
  "nbformat_minor": 0,
  "metadata": {
    "colab": {
      "name": "Inventry_Selling_System.ipynb",
      "provenance": []
    },
    "kernelspec": {
      "name": "python3",
      "display_name": "Python 3"
    },
    "language_info": {
      "name": "python"
    }
  },
  "cells": [
    {
      "cell_type": "code",
      "metadata": {
        "id": "jASQqsU4y6X8"
      },
      "source": [
        "sales = {}"
      ],
      "execution_count": 3,
      "outputs": []
    },
    {
      "cell_type": "code",
      "metadata": {
        "id": "LA1l-xHay6bk"
      },
      "source": [
        "import json"
      ],
      "execution_count": 4,
      "outputs": []
    },
    {
      "cell_type": "code",
      "metadata": {
        "id": "POQpzuz-y6e-"
      },
      "source": [
        "js = json.dumps(sales)"
      ],
      "execution_count": 14,
      "outputs": []
    },
    {
      "cell_type": "code",
      "metadata": {
        "id": "LFdEloI3y6ia"
      },
      "source": [
        "fd = open(\"sales.json\",\"w\")\n",
        "fd.write(js)\n",
        "fd.close()"
      ],
      "execution_count": 6,
      "outputs": []
    },
    {
      "cell_type": "code",
      "metadata": {
        "id": "ei7EDVhUy6l_"
      },
      "source": [
        "fd = open(\"sales.json\",'r')\n",
        "r = fd.read()\n",
        "fd.close()"
      ],
      "execution_count": 8,
      "outputs": []
    },
    {
      "cell_type": "code",
      "metadata": {
        "id": "CJZRuOKMy6pO"
      },
      "source": [
        "sales = json.loads(r)"
      ],
      "execution_count": 10,
      "outputs": []
    },
    {
      "cell_type": "code",
      "metadata": {
        "colab": {
          "base_uri": "https://localhost:8080/"
        },
        "id": "qrX7HyGjy6sz",
        "outputId": "1a3ac6de-809a-4963-d08f-3f2b09701bf1"
      },
      "source": [
        "sales"
      ],
      "execution_count": 12,
      "outputs": [
        {
          "output_type": "execute_result",
          "data": {
            "text/plain": [
              "{}"
            ]
          },
          "metadata": {},
          "execution_count": 12
        }
      ]
    },
    {
      "cell_type": "code",
      "metadata": {
        "colab": {
          "base_uri": "https://localhost:8080/"
        },
        "id": "X2oRGIufzyJd",
        "outputId": "99b09c6b-c616-40d1-c470-337abaec371e"
      },
      "source": [
        "import json\n",
        "\n",
        "fd = open(\"products.json\",'r')\n",
        "r = fd.read()\n",
        "fd.close()\n",
        "\n",
        "products = json.loads(r)\n",
        "\n",
        "\n",
        "\n",
        "print(\"Welcome to shop\")\n",
        "\n",
        "\n",
        "ui_prod = input(\"Enter the product Id: \")\n",
        "ui_quan = int(input(\"Enter the quantity of the Product: \"))\n",
        "\n",
        "for i in products.keys():\n",
        "    while ui_prod == i:\n",
        "        if ui_quan <= products[i]['quan']:\n",
        "            print(\"****************************************\")\n",
        "            print(\"product:\",products[ui_prod]['name'])\n",
        "            print(\"price:\",products[ui_prod]['price'])\n",
        "            print(\"Expiry date:\",products[ui_prod]['expiry'])\n",
        "            print(\" Manufacturing Brand:\",products[ui_prod]['brand'])\n",
        "            print(\"****************************************\")\n",
        "            print(\"----------BILLING DETAILS:---------- \")\n",
        "            print(\"Total Amount: \",products[ui_prod]['price']*ui_quan) \n",
        "            print(\"Enjoy Your Day\")\n",
        "            print(\"Thank You. Visit Again\")\n",
        "            print(\"**********************************\")\n",
        "            products[ui_prod][\"quan\"] = products[ui_prod][\"quan\"] - ui_quan\n",
        "        else:\n",
        "            print(\"Sorry. Stock of product you enterd is: \",products[ui_prod]['quan'],\"\\nPlease accept our apologies for this inconvenience\")\n",
        "        break\n",
        "if ui_prod not in products.keys():\n",
        "   print(\"Sorry. No product found for ID: \",ui_prod,\"\\Please enter valid product ID\")\n",
        "    \n",
        "    \n",
        "js = json.dumps(products)\n",
        "\n",
        "fd = open(\"products.json\",'w')\n",
        "fd.write(js)\n",
        "fd.close()\n",
        "\n",
        "## The sold items information is stored on sales.json\n",
        "fd = open(\"sales.json\",'r')\n",
        "trans = fd.read()\n",
        "fd.close()\n",
        "\n",
        "sales = json.loads(trans)\n",
        "num = len(sales)+1\n",
        "\n",
        "sales[num] = {'prod':ui_prod, 'quan' : ui_quan, 'amount': products[ui_prod]['price'] * ui_quan}\n",
        "sale = json.dumps(sales)\n",
        "\n",
        "fd = open(\"sales.json\",'w')\n",
        "fd.write(sale)\n",
        "fd.close()"
      ],
      "execution_count": 27,
      "outputs": [
        {
          "output_type": "stream",
          "name": "stdout",
          "text": [
            "Welcome to shop\n",
            "Enter the product Id: 1019\n",
            "Enter the quantity of the Product: 14\n",
            "****************************************\n",
            "             product: Bingo! Mad Angle\n",
            "               price: 25\n",
            "         Expiry date: 20 dec 2023\n",
            " Manufacturing Brand: Bingo!\n",
            "****************************************\n",
            "----------BILLING DETAILS:---------- \n",
            "Total Amount:  350\n",
            "Enjoy Your Day\n",
            "Thank You. Visit Again\n",
            "**********************************\n"
          ]
        }
      ]
    }
  ]
}
